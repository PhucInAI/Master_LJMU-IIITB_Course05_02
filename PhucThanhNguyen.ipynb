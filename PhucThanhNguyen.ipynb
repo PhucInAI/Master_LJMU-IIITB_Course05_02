{
 "cells": [
  {
   "cell_type": "markdown",
   "id": "7f1e6be8",
   "metadata": {},
   "source": [
    "# Gesture Recognition\n",
    "<b> Use Tensorflow 2.10.0 </b>"
   ]
  },
  {
   "cell_type": "markdown",
   "id": "fa14f5cd",
   "metadata": {},
   "source": [
    "## 1. Data Loader and Analysis"
   ]
  },
  {
   "cell_type": "code",
   "execution_count": 1,
   "id": "3c6b7d83",
   "metadata": {},
   "outputs": [],
   "source": [
    "# import library\n",
    "import os, glob, shutil\n",
    "import numpy as np\n",
    "import datetime\n",
    "import tensorflow as tf\n",
    "import pandas as pd\n",
    "from PIL import Image\n",
    "import cv2\n",
    "import matplotlib.pyplot as plt\n",
    "import seaborn as sns\n",
    "from tqdm import tqdm\n",
    "\n",
    "from keras.layers import Dense,Dropout,Conv3D,Input,MaxPool3D,Flatten,Activation\n",
    "from keras.regularizers import l2\n",
    "from keras.models import Model\n",
    "\n",
    "# set random seed for whole project\n",
    "np.random.seed(1)\n",
    "tf.random.set_seed(1)"
   ]
  },
  {
   "cell_type": "code",
   "execution_count": 2,
   "id": "0849d3cf",
   "metadata": {},
   "outputs": [],
   "source": [
    "# setting global parameter\n",
    "data_folder = './data'\n",
    "checkpoints_folder = './checkpoints'\n",
    "\n",
    "# setting hyparameter for project\n",
    "batch_size = 8\n",
    "num_epochs = 30\n",
    "dest_size = (128, 128)"
   ]
  },
  {
   "cell_type": "markdown",
   "id": "27fb1bbb",
   "metadata": {},
   "source": [
    "### 1.1 Read CSV file"
   ]
  },
  {
   "cell_type": "code",
   "execution_count": 3,
   "id": "34e66cd6",
   "metadata": {},
   "outputs": [
    {
     "name": "stdout",
     "output_type": "stream",
     "text": [
      "Total train samples : 663\n",
      "Total val samples   : 100\n"
     ]
    }
   ],
   "source": [
    "train_doc = np.random.permutation(open('./data/train.csv').readlines())\n",
    "val_doc = np.random.permutation(open('./data/val.csv').readlines()) \n",
    "train_df = pd.read_csv(os.path.join(data_folder, 'train.csv'), delimiter=';', names=['video', 'label (text)', 'label'])\n",
    "val_df   = pd.read_csv(os.path.join(data_folder, 'val.csv'), delimiter=';', names=['video', 'label (text)', 'label'])\n",
    "print('Total train samples :', len(train_df))\n",
    "print('Total val samples   :', len(val_df))"
   ]
  },
  {
   "cell_type": "code",
   "execution_count": 4,
   "id": "5ca1a854",
   "metadata": {},
   "outputs": [
    {
     "name": "stdout",
     "output_type": "stream",
     "text": [
      "                                      video    label (text)  label\n",
      "0  WIN_20180925_17_08_43_Pro_Left_Swipe_new  Left_Swipe_new      0\n",
      "1  WIN_20180925_17_18_28_Pro_Left_Swipe_new  Left_Swipe_new      0\n",
      "2  WIN_20180925_17_18_56_Pro_Left_Swipe_new  Left_Swipe_new      0\n",
      "3  WIN_20180925_17_19_51_Pro_Left_Swipe_new  Left_Swipe_new      0\n",
      "4  WIN_20180925_17_20_14_Pro_Left_Swipe_new  Left_Swipe_new      0\n",
      "                                      video    label (text)  label\n",
      "0  WIN_20180925_17_17_04_Pro_Left_Swipe_new  Left_Swipe_new      0\n",
      "1  WIN_20180925_17_43_01_Pro_Left_Swipe_new  Left_Swipe_new      0\n",
      "2  WIN_20180925_18_01_40_Pro_Left_Swipe_new  Left_Swipe_new      0\n",
      "3  WIN_20180925_18_03_21_Pro_Left_Swipe_new  Left_Swipe_new      0\n",
      "4  WIN_20180926_16_46_22_Pro_Left_Swipe_new  Left_Swipe_new      0\n"
     ]
    }
   ],
   "source": [
    "# take a look at train and val\n",
    "print(train_df.head(5))\n",
    "print(val_df.head(5))"
   ]
  },
  {
   "cell_type": "code",
   "execution_count": 5,
   "id": "b87b440f",
   "metadata": {},
   "outputs": [],
   "source": [
    "# create a labels dict with key is numberic and labels is text\n",
    "label_dict = {\n",
    "    0 : 'Left Swipe',\n",
    "    1 : 'Right Swipe',\n",
    "    2 : 'Stop',\n",
    "    3 : 'Thumbs Down',\n",
    "    4 : 'Thumbs Up',\n",
    "}"
   ]
  },
  {
   "cell_type": "markdown",
   "id": "3226c922",
   "metadata": {},
   "source": [
    "### 1.2 Analysis data"
   ]
  },
  {
   "cell_type": "code",
   "execution_count": 6,
   "id": "d3cbaba1",
   "metadata": {
    "scrolled": true
   },
   "outputs": [
    {
     "data": {
      "text/plain": [
       "<AxesSubplot:xlabel='label', ylabel='count'>"
      ]
     },
     "execution_count": 6,
     "metadata": {},
     "output_type": "execute_result"
    },
    {
     "data": {
      "image/png": "[encoded data removed]",
      "text/plain": [
       "<Figure size 640x480 with 1 Axes>"
      ]
     },
     "metadata": {},
     "output_type": "display_data"
    }
   ],
   "source": [
    "data = train_df.groupby('label').size()\n",
    "data.plot.bar(xlabel='label', ylabel='count')"
   ]
  },
  {
   "cell_type": "code",
   "execution_count": 7,
   "id": "58b614db",
   "metadata": {},
   "outputs": [
    {
     "data": {
      "text/plain": [
       "<AxesSubplot:xlabel='label', ylabel='count'>"
      ]
     },
     "execution_count": 7,
     "metadata": {},
     "output_type": "execute_result"
    },
    {
     "data": {
      "image/png": "[encoded data removed]",
      "text/plain": [
       "<Figure size 640x480 with 1 Axes>"
      ]
     },
     "metadata": {},
     "output_type": "display_data"
    }
   ],
   "source": [
    "data = val_df.groupby('label').size()\n",
    "data.plot.bar(xlabel='label', ylabel='count')"
   ]
  },
  {
   "cell_type": "code",
   "execution_count": 8,
   "id": "b656988f",
   "metadata": {},
   "outputs": [],
   "source": [
    "# Size (Height and Width of Data)"
   ]
  },
  {
   "cell_type": "markdown",
   "id": "e146dc0d",
   "metadata": {},
   "source": [
    "Conclusion:\n",
    "<li> Data is quite balance </li>\n",
    "<li> Image size is very different between image </li>"
   ]
  },
  {
   "cell_type": "markdown",
   "id": "f63cb6d1",
   "metadata": {},
   "source": [
    "### 1.3 Data Generator and Transform\n",
    "Cause data is left and right sensitive, up and down sensitive, so it would be better to not clip, rotate it in spatial\n",
    "Cause data is sequence, so we should not random choose the frame order\n",
    "\n",
    "We can change the contrast and brightness of image\n",
    "https://docs.opencv.org/3.4/d3/dc1/tutorial_basic_linear_transform.html"
   ]
  },
  {
   "cell_type": "code",
   "execution_count": 9,
   "id": "70bd260c",
   "metadata": {},
   "outputs": [],
   "source": [
    "def resize_img(im, desired_size = dest_size[0]):\n",
    "    \"\"\"\n",
    "        Resize image with keep aspect ratio\n",
    "    \"\"\"\n",
    "    old_size = im.shape[:2] # old_size is in (height, width) format\n",
    "\n",
    "    ratio = float(desired_size)/max(old_size)\n",
    "    new_size = tuple([int(x*ratio) for x in old_size])\n",
    "\n",
    "    # new_size should be in (width, height) format\n",
    "\n",
    "    im = cv2.resize(im, (new_size[1], new_size[0]))\n",
    "\n",
    "    delta_w = desired_size - new_size[1]\n",
    "    delta_h = desired_size - new_size[0]\n",
    "    top, bottom = delta_h//2, delta_h-(delta_h//2)\n",
    "    left, right = delta_w//2, delta_w-(delta_w//2)\n",
    "\n",
    "    color = [0, 0, 0]\n",
    "    new_im = cv2.copyMakeBorder(im, top, bottom, left, right, cv2.BORDER_CONSTANT, value=color)\n",
    "    return new_im\n",
    "\n",
    "def change_brightness(image):\n",
    "    alpha = np.random.uniform(0.75, 1.25)\n",
    "    beta = np.random.uniform(0, 100)\n",
    "    new_image = np.zeros(image.shape, image.dtype)\n",
    "    for y in range(image.shape[0]):\n",
    "        for x in range(image.shape[1]):\n",
    "            for c in range(image.shape[2]):\n",
    "                new_image[y,x,c] = np.clip(alpha*image[y,x,c] + beta, 0, 255)\n",
    "    return new_image\n",
    "\n",
    "def add_noise(image, threshold = 70):\n",
    "    \"\"\"\n",
    "        Add salt and pepper noise if get random int > threshold\n",
    "    \"\"\"\n",
    "    random_value = np.random.randint(0, 100)\n",
    "    if random_value > threshold:\n",
    "        image = image/255.0\n",
    "        row,col,ch = image.shape\n",
    "        s_vs_p = 0.5\n",
    "        amount = 0.004\n",
    "        out = np.copy(image)\n",
    "        # Salt mode\n",
    "        num_salt = np.ceil(amount * image.size * s_vs_p)\n",
    "        coords = [np.random.randint(0, i - 1, int(num_salt))\n",
    "              for i in image.shape]\n",
    "        out[coords] = 1\n",
    "\n",
    "        # Pepper mode\n",
    "        num_pepper = np.ceil(amount* image.size * (1. - s_vs_p))\n",
    "        coords = [np.random.randint(0, i - 1, int(num_pepper))\n",
    "              for i in image.shape]\n",
    "        out[coords] = 0\n",
    "        out = image*255\n",
    "        return out\n",
    "    else:\n",
    "        return image"
   ]
  },
  {
   "cell_type": "code",
   "execution_count": 10,
   "id": "4d71ded5",
   "metadata": {},
   "outputs": [],
   "source": [
    "def generator(source_path, folder_list, batch_size, augmentation = False):\n",
    "#     print( 'Source path = ', source_path, '; batch size =', batch_size)\n",
    "    img_idx = [x for x in range(0,30,2)]#create a list of image numbers you want to use for a particular video, we are not using all the 30 images in a video, selected pickup of images\n",
    "    while True:\n",
    "        sample = np.random.permutation(folder_list)\n",
    "        num_batches =int(len(sample)/batch_size) # calculate the number of batches\n",
    "        for batch in range(num_batches): # we iterate over the number of batches\n",
    "            x=len(img_idx)\n",
    "            y=dest_size[0]\n",
    "            z=dest_size[1]\n",
    "            batch_data = np.zeros((batch_size,x,y,z,3)) # x is the number of images you use for each video, (y,z) is the final size of the input images and 3 is the number of channels RGB\n",
    "            batch_labels = np.zeros((batch_size,5)) # batch_labels is the one hot representation of the output\n",
    "            cnt_img=0\n",
    "            for folder in range(batch_size): # iterate over the batch_size\n",
    "                imgs = sorted(glob.glob(os.path.join(source_path, sample[folder + batch*batch_size].split(';')[0], \"*\"))) # read all the images in the folder\n",
    "                cnt_img+=1\n",
    "                for idx,item in enumerate(img_idx): #  Iterate iver the frames/images of a folder to read them in\n",
    "                    # read image by pillow and resize to destination size, then convert to numpy\n",
    "                    image = cv2.imread(imgs[item])\n",
    "                    image = cv2.cvtColor(image, cv2.COLOR_BGR2RGB)\n",
    "                    image = np.array(image)\n",
    "                    if augmentation:\n",
    "                        image = change_brightness(image)\n",
    "                    image = resize_img(image)\n",
    "                    \n",
    "                    #crop the images and resize them. Note that the images are of 2 different shape \n",
    "                    #and the conv3D will throw error if the inputs in a batch have different shapes\n",
    "                    image=image/255.0\n",
    "\n",
    "                    batch_data[folder,idx,:,:,0] = (image[:,:,0])#normalise and feed in the image\n",
    "                    batch_data[folder,idx,:,:,1] = (image[:,:,1])#normalise and feed in the image\n",
    "                    batch_data[folder,idx,:,:,2] = (image[:,:,2])#normalise and feed in the image\n",
    "\n",
    "                batch_labels[folder, int(sample[folder + (batch*batch_size)].strip().split(';')[2])] = 1\n",
    "            yield batch_data, batch_labels #you yield the batch_data and the batch_labels, remember what does yield do\n",
    "\n",
    "\n",
    "            # write the code for the remaining data points which are left after full batches\n",
    "            cnt_img=0\n",
    "            batch_cover = num_batches*batch_size\n",
    "            rem = len(sample) - batch_cover\n",
    "            if(len(sample)!=batch_cover):\n",
    "                batch_data = np.zeros((rem,x,y,z,3)) # x is the number of images you use for each video, (y,z) is the final size of the input images and 3 is the number of channels RGB\n",
    "                batch_labels = np.zeros((rem,5)) # batch_labels is the one hot representation of the output\n",
    "                for folder in range(rem):\n",
    "                    imgs = sorted(glob.glob(os.path.join(source_path, sample[folder + batch*batch_size].split(';')[0], \"*\"))) # read all the images in the folder\n",
    "                    cnt_img+=1\n",
    "                    for idx,item in enumerate(img_idx): #  Iterate iver the frames/images of a folder to read them in\n",
    "                        # read image by pillow and resize to destination size, then convert to numpy\n",
    "                        image = cv2.imread(imgs[item])\n",
    "                        image = cv2.cvtColor(image, cv2.COLOR_BGR2RGB)\n",
    "                        image = resize_img(image)\n",
    "                        image = np.array(image)\n",
    "\n",
    "                        #crop the images and resize them. Note that the images are of 2 different shape \n",
    "                        #and the conv3D will throw error if the inputs in a batch have different shapes\n",
    "                        image=image/255.0\n",
    "\n",
    "                        batch_data[folder,idx,:,:,0] = (image[:,:,0])#normalise and feed in the image\n",
    "                        batch_data[folder,idx,:,:,1] = (image[:,:,1])#normalise and feed in the image\n",
    "                        batch_data[folder,idx,:,:,2] = (image[:,:,2])#normalise and feed in the image\n",
    "\n",
    "                    batch_labels[folder, int(sample[folder + batch_size].strip().split(';')[2])] = 1\n",
    "                yield batch_data, batch_labels #you yield the batch_data and the batch_labels, remember what does yield do"
   ]
  },
  {
   "cell_type": "code",
   "execution_count": 11,
   "id": "2b1555d6",
   "metadata": {},
   "outputs": [
    {
     "name": "stdout",
     "output_type": "stream",
     "text": [
      "# training sequences = 663\n",
      "# validation sequences = 100\n",
      "# epochs = 30\n"
     ]
    }
   ],
   "source": [
    "curr_dt_time = datetime.datetime.now()\n",
    "train_path = './data/train'\n",
    "val_path = './data/val'\n",
    "num_train_sequences = len(train_df)\n",
    "print('# training sequences =', num_train_sequences)\n",
    "num_val_sequences = len(val_df)\n",
    "print('# validation sequences =', num_val_sequences)\n",
    "print ('# epochs =', num_epochs)"
   ]
  },
  {
   "cell_type": "markdown",
   "id": "c0de1eb4",
   "metadata": {},
   "source": [
    "## Model buiding"
   ]
  },
  {
   "cell_type": "code",
   "execution_count": 12,
   "id": "b64e56d6",
   "metadata": {},
   "outputs": [],
   "source": [
    "def train_model(model, name, num_epochs = num_epochs, batch_size = batch_size):\n",
    "    # train and val generator\n",
    "    train_generator = generator(train_path, train_doc, batch_size)\n",
    "    val_generator = generator(val_path, val_doc, batch_size)\n",
    "    \n",
    "    # create folder for saving checkpoints\n",
    "    model_name = 'model' + '_' + name\n",
    "\n",
    "    if not os.path.exists(os.path.join(checkpoints_folder, model_name)):\n",
    "        os.mkdir(os.path.join(checkpoints_folder, model_name))\n",
    "    \n",
    "    # optimizers\n",
    "    opt = tf.keras.optimizers.Adam(learning_rate=0.001,\n",
    "                                   beta_1=0.9,\n",
    "                                   beta_2=0.999,\n",
    "                                   epsilon=1e-07,\n",
    "                                   amsgrad=False,\n",
    "                                   name='Adam'\n",
    "                                  )\n",
    "    model.compile(optimizer=opt, loss='categorical_crossentropy', metrics=['categorical_accuracy'])\n",
    "    print(\"###############################################\")\n",
    "    print(\"Model {} summary\".format(name))\n",
    "    print(model.summary())\n",
    "    print(\"###############################################\")\n",
    "    \n",
    "    # callbacks\n",
    "    filepath = model_name + 'model-{epoch:05d}-{loss:.5f}-{categorical_accuracy:.5f}-{val_loss:.5f}-{val_categorical_accuracy:.5f}.h5'\n",
    "    checkpoint = tf.keras.callbacks.ModelCheckpoint(os.path.join(checkpoints_folder, model_name, filepath),\n",
    "                                                                 monitor='val_loss', \n",
    "                                                                 verbose=1, \n",
    "                                                                 save_best_only=True, \n",
    "                                                                 save_weights_only=False, \n",
    "                                                                 mode='auto', \n",
    "                                                                 period=1) #chekpoints to save model in .h5\n",
    "    LR = tf.keras.callbacks.ReduceLROnPlateau(monitor='val_loss', factor=0.01, patience=5, cooldown=4, verbose=1,mode='auto',min_delta=0.0001) #learning Rate\n",
    "    EL = tf.keras.callbacks.EarlyStopping(monitor='val_loss', patience=8, min_delta=1e-5)\n",
    "    callbacks_list = [checkpoint, LR, EL]\n",
    "    \n",
    "    # calculate step_per_epoch\n",
    "    if (num_train_sequences%batch_size) == 0:\n",
    "        steps_per_epoch = int(num_train_sequences/batch_size)\n",
    "    else:\n",
    "        steps_per_epoch = (num_train_sequences//batch_size) + 1 #in case of remaining data points which are left after full batches\n",
    "\n",
    "    if (num_val_sequences%batch_size) == 0:\n",
    "        validation_steps = int(num_val_sequences/batch_size)\n",
    "    else:\n",
    "        validation_steps = (num_val_sequences//batch_size) + 1 #in case of remaining data points which are left after full batches\n",
    "\n",
    "    # Training process\n",
    "    print(\"###############################################\")\n",
    "    print(\"Training model\")\n",
    "    history=model.fit(train_generator, \n",
    "                      steps_per_epoch=steps_per_epoch, \n",
    "                      epochs=num_epochs, verbose=1, \n",
    "                      callbacks=callbacks_list, \n",
    "                      validation_data=val_generator, \n",
    "                      validation_steps=validation_steps, \n",
    "                      class_weight=None, \n",
    "                      workers=1, \n",
    "                      initial_epoch=0)\n",
    "    print(\"###############################################\")\n",
    "    return history"
   ]
  },
  {
   "cell_type": "code",
   "execution_count": 13,
   "id": "f6424696",
   "metadata": {},
   "outputs": [],
   "source": [
    "# plot accuracy & loss\n",
    "def plot_history(history):\n",
    "    fig, axes = plt.subplots(nrows=1, ncols=2, figsize=(15,4))\n",
    "    axes[0].plot(history.history['loss'])   \n",
    "    axes[0].plot(history.history['val_loss'])\n",
    "    axes[0].legend(['loss','val_loss'])\n",
    "\n",
    "    axes[1].plot(history.history['categorical_accuracy'])   \n",
    "    axes[1].plot(history.history['val_categorical_accuracy'])\n",
    "    axes[1].legend(['categorical_accuracy','val_categorical_accuracy'])"
   ]
  },
  {
   "cell_type": "markdown",
   "id": "345e66aa",
   "metadata": {},
   "source": [
    "## 2.1 Model 1\n",
    "C3D inspired model"
   ]
  },
  {
   "cell_type": "code",
   "execution_count": 14,
   "id": "3a8f8f02",
   "metadata": {},
   "outputs": [],
   "source": [
    "def Model01(nb_classes):\n",
    "    \"\"\"\n",
    "        C3D Model\n",
    "    \"\"\"\n",
    "    input_shape = (15, 128, 128, 3)\n",
    "    weight_decay = 0.005\n",
    "    nb_classes = nb_classes\n",
    "\n",
    "    inputs = Input(input_shape)\n",
    "    x = Conv3D(32,(3,3,3),strides=(1,1,1),padding='same',\n",
    "               activation='relu',kernel_regularizer=l2(weight_decay))(inputs)\n",
    "    x = MaxPool3D((1,2,2),strides=(1,2,2),padding='same')(x)\n",
    "\n",
    "    x = Conv3D(64,(3,3,3),strides=(1,1,1),padding='same',\n",
    "               activation='relu',kernel_regularizer=l2(weight_decay))(x)\n",
    "    x = MaxPool3D((2,2,2),strides=(2,2,2),padding='same')(x)\n",
    "\n",
    "    x = Conv3D(64,(3,3,3),strides=(1,1,1),padding='same',\n",
    "               activation='relu',kernel_regularizer=l2(weight_decay))(x)\n",
    "    x = MaxPool3D((2,2,2),strides=(2,2,2),padding='same')(x)\n",
    "\n",
    "    x = Conv3D(128,(3,3,3),strides=(1,1,1),padding='same',\n",
    "               activation='relu',kernel_regularizer=l2(weight_decay))(x)\n",
    "    x = MaxPool3D((2,2,2),strides=(2,2,2),padding='same')(x)\n",
    "\n",
    "    x = Conv3D(128, (3, 3, 3), strides=(1, 1, 1), padding='same',\n",
    "               activation='relu',kernel_regularizer=l2(weight_decay))(x)\n",
    "    x = MaxPool3D((2, 2, 2), strides=(2, 2, 2), padding='same')(x)\n",
    "\n",
    "    x = Flatten()(x)\n",
    "    x = Dense(1024,activation='relu',kernel_regularizer=l2(weight_decay))(x)\n",
    "    x = Dropout(0.5)(x)\n",
    "    x = Dense(128,activation='relu',kernel_regularizer=l2(weight_decay))(x)\n",
    "    x = Dropout(0.5)(x)\n",
    "    x = Dense(nb_classes,kernel_regularizer=l2(weight_decay))(x)\n",
    "    x = Activation('softmax')(x)\n",
    "\n",
    "    model = Model(inputs, x)\n",
    "    return model"
   ]
  },
  {
   "cell_type": "code",
   "execution_count": 15,
   "id": "c5d4b0a6",
   "metadata": {},
   "outputs": [
    {
     "name": "stdout",
     "output_type": "stream",
     "text": [
      "###############################################\n",
      "Model 01 summary\n",
      "Model: \"model\"\n",
      "_________________________________________________________________\n",
      " Layer (type)                Output Shape              Param #   \n",
      "=================================================================\n",
      " input_1 (InputLayer)        [(None, 15, 128, 128, 3)  0         \n",
      "                             ]                                   \n",
      "                                                                 \n",
      " conv3d (Conv3D)             (None, 15, 128, 128, 32)  2624      \n",
      "                                                                 \n",
      " max_pooling3d (MaxPooling3D  (None, 15, 64, 64, 32)   0         \n",
      " )                                                               \n",
      "                                                                 \n",
      " conv3d_1 (Conv3D)           (None, 15, 64, 64, 64)    55360     \n",
      "                                                                 \n",
      " max_pooling3d_1 (MaxPooling  (None, 8, 32, 32, 64)    0         \n",
      " 3D)                                                             \n",
      "                                                                 \n",
      " conv3d_2 (Conv3D)           (None, 8, 32, 32, 64)     110656    \n",
      "                                                                 \n",
      " max_pooling3d_2 (MaxPooling  (None, 4, 16, 16, 64)    0         \n",
      " 3D)                                                             \n",
      "                                                                 \n",
      " conv3d_3 (Conv3D)           (None, 4, 16, 16, 128)    221312    \n",
      "                                                                 \n",
      " max_pooling3d_3 (MaxPooling  (None, 2, 8, 8, 128)     0         \n",
      " 3D)                                                             \n",
      "                                                                 \n",
      " conv3d_4 (Conv3D)           (None, 2, 8, 8, 128)      442496    \n",
      "                                                                 \n",
      " max_pooling3d_4 (MaxPooling  (None, 1, 4, 4, 128)     0         \n",
      " 3D)                                                             \n",
      "                                                                 \n",
      " flatten (Flatten)           (None, 2048)              0         \n",
      "                                                                 \n",
      " dense (Dense)               (None, 1024)              2098176   \n",
      "                                                                 \n",
      " dropout (Dropout)           (None, 1024)              0         \n",
      "                                                                 \n",
      " dense_1 (Dense)             (None, 128)               131200    \n",
      "                                                                 \n",
      " dropout_1 (Dropout)         (None, 128)               0         \n",
      "                                                                 \n",
      " dense_2 (Dense)             (None, 5)                 645       \n",
      "                                                                 \n",
      " activation (Activation)     (None, 5)                 0         \n",
      "                                                                 \n",
      "=================================================================\n",
      "Total params: 3,062,469\n",
      "Trainable params: 3,062,469\n",
      "Non-trainable params: 0\n",
      "_________________________________________________________________\n",
      "None\n",
      "###############################################\n",
      "WARNING:tensorflow:`period` argument is deprecated. Please use `save_freq` to specify the frequency in number of batches seen.\n",
      "###############################################\n",
      "Training model\n",
      "Epoch 1/30\n",
      "83/83 [==============================] - ETA: 0s - loss: 4.7930 - categorical_accuracy: 0.3226\n",
      "Epoch 1: val_loss improved from inf to 2.78781, saving model to ./checkpoints\\model_01\\model_01model-00001-4.79300-0.32263-2.78781-0.25000.h5\n",
      "83/83 [==============================] - 21s 210ms/step - loss: 4.7930 - categorical_accuracy: 0.3226 - val_loss: 2.7878 - val_categorical_accuracy: 0.2500 - lr: 0.0010\n",
      "Epoch 2/30\n",
      "83/83 [==============================] - ETA: 0s - loss: 2.1906 - categorical_accuracy: 0.3344\n",
      "Epoch 2: val_loss improved from 2.78781 to 2.20836, saving model to ./checkpoints\\model_01\\model_01model-00002-2.19059-0.33441-2.20836-0.18750.h5\n",
      "83/83 [==============================] - 17s 208ms/step - loss: 2.1906 - categorical_accuracy: 0.3344 - val_loss: 2.2084 - val_categorical_accuracy: 0.1875 - lr: 0.0010\n",
      "Epoch 3/30\n",
      "83/83 [==============================] - ETA: 0s - loss: 1.8822 - categorical_accuracy: 0.2376\n",
      "Epoch 3: val_loss improved from 2.20836 to 1.85181, saving model to ./checkpoints\\model_01\\model_01model-00003-1.88215-0.23756-1.85181-0.17500.h5\n",
      "83/83 [==============================] - 17s 204ms/step - loss: 1.8822 - categorical_accuracy: 0.2376 - val_loss: 1.8518 - val_categorical_accuracy: 0.1750 - lr: 0.0010\n",
      "Epoch 4/30\n",
      "83/83 [==============================] - ETA: 0s - loss: 1.7367 - categorical_accuracy: 0.2267\n",
      "Epoch 4: val_loss improved from 1.85181 to 1.78973, saving model to ./checkpoints\\model_01\\model_01model-00004-1.73673-0.22669-1.78973-0.18750.h5\n",
      "83/83 [==============================] - 17s 204ms/step - loss: 1.7367 - categorical_accuracy: 0.2267 - val_loss: 1.7897 - val_categorical_accuracy: 0.1875 - lr: 0.0010\n",
      "Epoch 5/30\n",
      "83/83 [==============================] - ETA: 0s - loss: 1.6654 - categorical_accuracy: 0.2745\n",
      "Epoch 5: val_loss did not improve from 1.78973\n",
      "83/83 [==============================] - 17s 202ms/step - loss: 1.6654 - categorical_accuracy: 0.2745 - val_loss: 1.9243 - val_categorical_accuracy: 0.1000 - lr: 0.0010\n",
      "Epoch 6/30\n",
      "83/83 [==============================] - ETA: 0s - loss: 1.6237 - categorical_accuracy: 0.2894\n",
      "Epoch 6: val_loss improved from 1.78973 to 1.77652, saving model to ./checkpoints\\model_01\\model_01model-00006-1.62373-0.28939-1.77652-0.12500.h5\n",
      "83/83 [==============================] - 18s 213ms/step - loss: 1.6237 - categorical_accuracy: 0.2894 - val_loss: 1.7765 - val_categorical_accuracy: 0.1250 - lr: 0.0010\n",
      "Epoch 7/30\n",
      "83/83 [==============================] - ETA: 0s - loss: 1.6479 - categorical_accuracy: 0.2440\n",
      "Epoch 7: val_loss did not improve from 1.77652\n",
      "83/83 [==============================] - 17s 208ms/step - loss: 1.6479 - categorical_accuracy: 0.2440 - val_loss: 1.8532 - val_categorical_accuracy: 0.1500 - lr: 0.0010\n",
      "Epoch 8/30\n",
      "83/83 [==============================] - ETA: 0s - loss: 1.6268 - categorical_accuracy: 0.2765\n",
      "Epoch 8: val_loss improved from 1.77652 to 1.64696, saving model to ./checkpoints\\model_01\\model_01model-00008-1.62682-0.27653-1.64696-0.15000.h5\n",
      "83/83 [==============================] - 18s 212ms/step - loss: 1.6268 - categorical_accuracy: 0.2765 - val_loss: 1.6470 - val_categorical_accuracy: 0.1500 - lr: 0.0010\n",
      "Epoch 9/30\n",
      "83/83 [==============================] - ETA: 0s - loss: 1.6673 - categorical_accuracy: 0.1814\n",
      "Epoch 9: val_loss improved from 1.64696 to 1.64347, saving model to ./checkpoints\\model_01\\model_01model-00009-1.66727-0.18138-1.64347-0.22500.h5\n",
      "83/83 [==============================] - 18s 215ms/step - loss: 1.6673 - categorical_accuracy: 0.1814 - val_loss: 1.6435 - val_categorical_accuracy: 0.2250 - lr: 0.0010\n",
      "Epoch 10/30\n",
      "83/83 [==============================] - ETA: 0s - loss: 1.6431 - categorical_accuracy: 0.2428\n",
      "Epoch 10: val_loss improved from 1.64347 to 1.63259, saving model to ./checkpoints\\model_01\\model_01model-00010-1.64305-0.24277-1.63259-0.27500.h5\n",
      "83/83 [==============================] - 18s 221ms/step - loss: 1.6431 - categorical_accuracy: 0.2428 - val_loss: 1.6326 - val_categorical_accuracy: 0.2750 - lr: 0.0010\n",
      "Epoch 11/30\n",
      "83/83 [==============================] - ETA: 0s - loss: 1.6132 - categorical_accuracy: 0.2568\n",
      "Epoch 11: val_loss improved from 1.63259 to 1.59367, saving model to ./checkpoints\\model_01\\model_01model-00011-1.61320-0.25682-1.59367-0.25000.h5\n",
      "83/83 [==============================] - 18s 221ms/step - loss: 1.6132 - categorical_accuracy: 0.2568 - val_loss: 1.5937 - val_categorical_accuracy: 0.2500 - lr: 0.0010\n",
      "Epoch 12/30\n",
      "83/83 [==============================] - ETA: 0s - loss: 1.6170 - categorical_accuracy: 0.2412\n",
      "Epoch 12: val_loss did not improve from 1.59367\n",
      "83/83 [==============================] - 17s 210ms/step - loss: 1.6170 - categorical_accuracy: 0.2412 - val_loss: 1.6802 - val_categorical_accuracy: 0.0750 - lr: 0.0010\n"
     ]
    },
    {
     "name": "stdout",
     "output_type": "stream",
     "text": [
      "Epoch 13/30\n",
      "83/83 [==============================] - ETA: 0s - loss: 1.6162 - categorical_accuracy: 0.2424\n",
      "Epoch 13: val_loss did not improve from 1.59367\n",
      "83/83 [==============================] - 18s 218ms/step - loss: 1.6162 - categorical_accuracy: 0.2424 - val_loss: 1.6359 - val_categorical_accuracy: 0.2375 - lr: 0.0010\n",
      "Epoch 14/30\n",
      "83/83 [==============================] - ETA: 0s - loss: 1.6136 - categorical_accuracy: 0.2138\n",
      "Epoch 14: val_loss did not improve from 1.59367\n",
      "83/83 [==============================] - 18s 222ms/step - loss: 1.6136 - categorical_accuracy: 0.2138 - val_loss: 1.6531 - val_categorical_accuracy: 0.2125 - lr: 0.0010\n",
      "Epoch 15/30\n",
      "83/83 [==============================] - ETA: 0s - loss: 1.6205 - categorical_accuracy: 0.2568\n",
      "Epoch 15: val_loss did not improve from 1.59367\n",
      "83/83 [==============================] - 18s 212ms/step - loss: 1.6205 - categorical_accuracy: 0.2568 - val_loss: 1.6555 - val_categorical_accuracy: 0.2250 - lr: 0.0010\n",
      "Epoch 16/30\n",
      "83/83 [==============================] - ETA: 0s - loss: 1.6241 - categorical_accuracy: 0.2122\n",
      "Epoch 16: val_loss did not improve from 1.59367\n",
      "\n",
      "Epoch 16: ReduceLROnPlateau reducing learning rate to 1.0000000474974514e-05.\n",
      "83/83 [==============================] - 17s 207ms/step - loss: 1.6241 - categorical_accuracy: 0.2122 - val_loss: 1.6397 - val_categorical_accuracy: 0.2000 - lr: 0.0010\n",
      "Epoch 17/30\n",
      "83/83 [==============================] - ETA: 0s - loss: 1.6321 - categorical_accuracy: 0.1782\n",
      "Epoch 17: val_loss did not improve from 1.59367\n",
      "83/83 [==============================] - 18s 213ms/step - loss: 1.6321 - categorical_accuracy: 0.1782 - val_loss: 1.6224 - val_categorical_accuracy: 0.2375 - lr: 1.0000e-05\n",
      "Epoch 18/30\n",
      "83/83 [==============================] - ETA: 0s - loss: 1.6231 - categorical_accuracy: 0.2299\n",
      "Epoch 18: val_loss did not improve from 1.59367\n",
      "83/83 [==============================] - 18s 212ms/step - loss: 1.6231 - categorical_accuracy: 0.2299 - val_loss: 1.6331 - val_categorical_accuracy: 0.2500 - lr: 1.0000e-05\n",
      "Epoch 19/30\n",
      "83/83 [==============================] - ETA: 0s - loss: 1.6146 - categorical_accuracy: 0.4414\n",
      "Epoch 19: val_loss did not improve from 1.59367\n",
      "83/83 [==============================] - 17s 210ms/step - loss: 1.6146 - categorical_accuracy: 0.4414 - val_loss: 1.6290 - val_categorical_accuracy: 0.2375 - lr: 1.0000e-05\n",
      "###############################################\n"
     ]
    }
   ],
   "source": [
    "model_01 = Model01(nb_classes = 5)\n",
    "history_01 = train_model(model_01, name = '01')"
   ]
  },
  {
   "cell_type": "code",
   "execution_count": 16,
   "id": "0ac71ae0",
   "metadata": {},
   "outputs": [
    {
     "data": {
      "image/png": "[encoded data removed]",
      "text/plain": [
       "<Figure size 1500x400 with 2 Axes>"
      ]
     },
     "metadata": {},
     "output_type": "display_data"
    }
   ],
   "source": [
    "plot_history(history_01)"
   ]
  },
  {
   "cell_type": "markdown",
   "id": "6314408f",
   "metadata": {},
   "source": [
    "## 2.2 Model 2\n",
    "What if 3D CNN go with VGG like (2 conv + 1 pool)"
   ]
  },
  {
   "cell_type": "code",
   "execution_count": 17,
   "id": "e6d53ca5",
   "metadata": {},
   "outputs": [],
   "source": [
    "def Model02(nb_classes):\n",
    "    \"\"\"\n",
    "        C3D Model\n",
    "    \"\"\"\n",
    "    input_shape = (15, 128, 128, 3)\n",
    "    weight_decay = 0.005\n",
    "    nb_classes = nb_classes\n",
    "\n",
    "    inputs = Input(input_shape)\n",
    "    # block 1\n",
    "    x = Conv3D(32,(3,3,3),strides=(1,1,1),padding='same',\n",
    "               activation='relu',kernel_regularizer=l2(weight_decay))(inputs)\n",
    "    x = Conv3D(32,(3,3,3),strides=(1,1,1),padding='same',\n",
    "               activation='relu',kernel_regularizer=l2(weight_decay))(x)\n",
    "    x = MaxPool3D((1,2,2),strides=(1,2,2),padding='same')(x)\n",
    "    \n",
    "    # block 2\n",
    "    x = Conv3D(64,(3,3,3),strides=(1,1,1),padding='same',\n",
    "               activation='relu',kernel_regularizer=l2(weight_decay))(x)\n",
    "    x = Conv3D(64,(3,3,3),strides=(1,1,1),padding='same',\n",
    "               activation='relu',kernel_regularizer=l2(weight_decay))(x)\n",
    "    x = MaxPool3D((2,2,2),strides=(2,2,2),padding='same')(x)\n",
    "\n",
    "    # block 3\n",
    "    x = Conv3D(64,(3,3,3),strides=(1,1,1),padding='same',\n",
    "               activation='relu',kernel_regularizer=l2(weight_decay))(x)\n",
    "    x = Conv3D(64,(3,3,3),strides=(1,1,1),padding='same',\n",
    "               activation='relu',kernel_regularizer=l2(weight_decay))(x)\n",
    "    x = MaxPool3D((2,2,2),strides=(2,2,2),padding='same')(x)\n",
    "    \n",
    "    # block 4\n",
    "    x = Conv3D(128,(3,3,3),strides=(1,1,1),padding='same',\n",
    "               activation='relu',kernel_regularizer=l2(weight_decay))(x)\n",
    "    x = Conv3D(128,(3,3,3),strides=(1,1,1),padding='same',\n",
    "               activation='relu',kernel_regularizer=l2(weight_decay))(x)\n",
    "    x = MaxPool3D((2,2,2),strides=(2,2,2),padding='same')(x)\n",
    "    \n",
    "    # block 5\n",
    "    x = Conv3D(128, (3, 3, 3), strides=(1, 1, 1), padding='same',\n",
    "               activation='relu',kernel_regularizer=l2(weight_decay))(x)\n",
    "    x = MaxPool3D((2, 2, 2), strides=(2, 2, 2), padding='same')(x)\n",
    "\n",
    "    x = Flatten()(x)\n",
    "    x = Dense(1024,activation='relu',kernel_regularizer=l2(weight_decay))(x)\n",
    "    x = Dropout(0.5)(x)\n",
    "    x = Dense(128,activation='relu',kernel_regularizer=l2(weight_decay))(x)\n",
    "    x = Dropout(0.5)(x)\n",
    "    x = Dense(nb_classes,kernel_regularizer=l2(weight_decay))(x)\n",
    "    x = Activation('softmax')(x)\n",
    "\n",
    "    model = Model(inputs, x)\n",
    "    return model"
   ]
  },
  {
   "cell_type": "code",
   "execution_count": null,
   "id": "fe0884c0",
   "metadata": {},
   "outputs": [
    {
     "name": "stdout",
     "output_type": "stream",
     "text": [
      "###############################################\n",
      "Model 02 summary\n",
      "Model: \"model_1\"\n",
      "_________________________________________________________________\n",
      " Layer (type)                Output Shape              Param #   \n",
      "=================================================================\n",
      " input_2 (InputLayer)        [(None, 15, 128, 128, 3)  0         \n",
      "                             ]                                   \n",
      "                                                                 \n",
      " conv3d_5 (Conv3D)           (None, 15, 128, 128, 32)  2624      \n",
      "                                                                 \n",
      " conv3d_6 (Conv3D)           (None, 15, 128, 128, 32)  27680     \n",
      "                                                                 \n",
      " max_pooling3d_5 (MaxPooling  (None, 15, 64, 64, 32)   0         \n",
      " 3D)                                                             \n",
      "                                                                 \n",
      " conv3d_7 (Conv3D)           (None, 15, 64, 64, 64)    55360     \n",
      "                                                                 \n",
      " conv3d_8 (Conv3D)           (None, 15, 64, 64, 64)    110656    \n",
      "                                                                 \n",
      " max_pooling3d_6 (MaxPooling  (None, 8, 32, 32, 64)    0         \n",
      " 3D)                                                             \n",
      "                                                                 \n",
      " conv3d_9 (Conv3D)           (None, 8, 32, 32, 64)     110656    \n",
      "                                                                 \n",
      " conv3d_10 (Conv3D)          (None, 8, 32, 32, 64)     110656    \n",
      "                                                                 \n",
      " max_pooling3d_7 (MaxPooling  (None, 4, 16, 16, 64)    0         \n",
      " 3D)                                                             \n",
      "                                                                 \n",
      " conv3d_11 (Conv3D)          (None, 4, 16, 16, 128)    221312    \n",
      "                                                                 \n",
      " conv3d_12 (Conv3D)          (None, 4, 16, 16, 128)    442496    \n",
      "                                                                 \n",
      " max_pooling3d_8 (MaxPooling  (None, 2, 8, 8, 128)     0         \n",
      " 3D)                                                             \n",
      "                                                                 \n",
      " conv3d_13 (Conv3D)          (None, 2, 8, 8, 128)      442496    \n",
      "                                                                 \n",
      " max_pooling3d_9 (MaxPooling  (None, 1, 4, 4, 128)     0         \n",
      " 3D)                                                             \n",
      "                                                                 \n",
      " flatten_1 (Flatten)         (None, 2048)              0         \n",
      "                                                                 \n",
      " dense_3 (Dense)             (None, 1024)              2098176   \n",
      "                                                                 \n",
      " dropout_2 (Dropout)         (None, 1024)              0         \n",
      "                                                                 \n",
      " dense_4 (Dense)             (None, 128)               131200    \n",
      "                                                                 \n",
      " dropout_3 (Dropout)         (None, 128)               0         \n",
      "                                                                 \n",
      " dense_5 (Dense)             (None, 5)                 645       \n",
      "                                                                 \n",
      " activation_1 (Activation)   (None, 5)                 0         \n",
      "                                                                 \n",
      "=================================================================\n",
      "Total params: 3,753,957\n",
      "Trainable params: 3,753,957\n",
      "Non-trainable params: 0\n",
      "_________________________________________________________________\n",
      "None\n",
      "###############################################\n",
      "WARNING:tensorflow:`period` argument is deprecated. Please use `save_freq` to specify the frequency in number of batches seen.\n",
      "###############################################\n",
      "Training model\n",
      "Epoch 1/30\n",
      "83/83 [==============================] - ETA: 0s - loss: 5.7817 - categorical_accuracy: 0.2905\n",
      "Epoch 1: val_loss improved from inf to 3.89370, saving model to ./checkpoints\\model_02\\model_02model-00001-5.78174-0.29053-3.89370-0.11250.h5\n",
      "83/83 [==============================] - 33s 381ms/step - loss: 5.7817 - categorical_accuracy: 0.2905 - val_loss: 3.8937 - val_categorical_accuracy: 0.1125 - lr: 0.0010\n",
      "Epoch 2/30\n",
      "83/83 [==============================] - ETA: 0s - loss: 3.2424 - categorical_accuracy: 0.3039\n",
      "Epoch 2: val_loss improved from 3.89370 to 3.01057, saving model to ./checkpoints\\model_02\\model_02model-00002-3.24236-0.30386-3.01057-0.20000.h5\n",
      "83/83 [==============================] - 31s 374ms/step - loss: 3.2424 - categorical_accuracy: 0.3039 - val_loss: 3.0106 - val_categorical_accuracy: 0.2000 - lr: 0.0010\n",
      "Epoch 3/30\n",
      "83/83 [==============================] - ETA: 0s - loss: 2.6845 - categorical_accuracy: 0.2408\n",
      "Epoch 3: val_loss improved from 3.01057 to 2.49260, saving model to ./checkpoints\\model_02\\model_02model-00003-2.68453-0.24077-2.49260-0.26250.h5\n",
      "83/83 [==============================] - 34s 415ms/step - loss: 2.6845 - categorical_accuracy: 0.2408 - val_loss: 2.4926 - val_categorical_accuracy: 0.2625 - lr: 0.0010\n",
      "Epoch 4/30\n",
      "83/83 [==============================] - ETA: 0s - loss: 2.3282 - categorical_accuracy: 0.2830\n",
      "Epoch 4: val_loss improved from 2.49260 to 2.22436, saving model to ./checkpoints\\model_02\\model_02model-00004-2.32821-0.28296-2.22436-0.25000.h5\n",
      "83/83 [==============================] - 34s 409ms/step - loss: 2.3282 - categorical_accuracy: 0.2830 - val_loss: 2.2244 - val_categorical_accuracy: 0.2500 - lr: 0.0010\n",
      "Epoch 5/30\n",
      "83/83 [==============================] - ETA: 0s - loss: 2.1433 - categorical_accuracy: 0.2665\n",
      "Epoch 5: val_loss improved from 2.22436 to 2.14160, saving model to ./checkpoints\\model_02\\model_02model-00005-2.14333-0.26645-2.14160-0.12500.h5\n",
      "83/83 [==============================] - 35s 417ms/step - loss: 2.1433 - categorical_accuracy: 0.2665 - val_loss: 2.1416 - val_categorical_accuracy: 0.1250 - lr: 0.0010\n",
      "Epoch 6/30\n",
      "83/83 [==============================] - ETA: 0s - loss: 1.9817 - categorical_accuracy: 0.2958\n",
      "Epoch 6: val_loss improved from 2.14160 to 1.98491, saving model to ./checkpoints\\model_02\\model_02model-00006-1.98166-0.29582-1.98491-0.20000.h5\n",
      "83/83 [==============================] - 35s 424ms/step - loss: 1.9817 - categorical_accuracy: 0.2958 - val_loss: 1.9849 - val_categorical_accuracy: 0.2000 - lr: 0.0010\n",
      "Epoch 7/30\n",
      "83/83 [==============================] - ETA: 0s - loss: 1.8969 - categorical_accuracy: 0.2376\n",
      "Epoch 7: val_loss improved from 1.98491 to 1.84573, saving model to ./checkpoints\\model_02\\model_02model-00007-1.89691-0.23756-1.84573-0.25000.h5\n",
      "83/83 [==============================] - 35s 423ms/step - loss: 1.8969 - categorical_accuracy: 0.2376 - val_loss: 1.8457 - val_categorical_accuracy: 0.2500 - lr: 0.0010\n",
      "Epoch 8/30\n",
      "83/83 [==============================] - ETA: 0s - loss: 1.7939 - categorical_accuracy: 0.2926\n",
      "Epoch 8: val_loss improved from 1.84573 to 1.80371, saving model to ./checkpoints\\model_02\\model_02model-00008-1.79394-0.29260-1.80371-0.25000.h5\n",
      "83/83 [==============================] - 38s 464ms/step - loss: 1.7939 - categorical_accuracy: 0.2926 - val_loss: 1.8037 - val_categorical_accuracy: 0.2500 - lr: 0.0010\n",
      "Epoch 9/30\n",
      "83/83 [==============================] - ETA: 0s - loss: 1.7921 - categorical_accuracy: 0.2231\n",
      "Epoch 9: val_loss improved from 1.80371 to 1.79884, saving model to ./checkpoints\\model_02\\model_02model-00009-1.79213-0.22311-1.79884-0.23750.h5\n",
      "83/83 [==============================] - 36s 430ms/step - loss: 1.7921 - categorical_accuracy: 0.2231 - val_loss: 1.7988 - val_categorical_accuracy: 0.2375 - lr: 0.0010\n",
      "Epoch 10/30\n",
      "83/83 [==============================] - ETA: 0s - loss: 1.7394 - categorical_accuracy: 0.2219\n",
      "Epoch 10: val_loss improved from 1.79884 to 1.78206, saving model to ./checkpoints\\model_02\\model_02model-00010-1.73944-0.22186-1.78206-0.12500.h5\n",
      "83/83 [==============================] - 34s 405ms/step - loss: 1.7394 - categorical_accuracy: 0.2219 - val_loss: 1.7821 - val_categorical_accuracy: 0.1250 - lr: 0.0010\n"
     ]
    },
    {
     "name": "stdout",
     "output_type": "stream",
     "text": [
      "Epoch 11/30\n",
      "83/83 [==============================] - ETA: 0s - loss: 1.7003 - categorical_accuracy: 0.2616\n",
      "Epoch 11: val_loss improved from 1.78206 to 1.64592, saving model to ./checkpoints\\model_02\\model_02model-00011-1.70034-0.26164-1.64592-0.30000.h5\n",
      "83/83 [==============================] - 36s 433ms/step - loss: 1.7003 - categorical_accuracy: 0.2616 - val_loss: 1.6459 - val_categorical_accuracy: 0.3000 - lr: 0.0010\n",
      "Epoch 12/30\n",
      "83/83 [==============================] - ETA: 0s - loss: 1.6669 - categorical_accuracy: 0.2958\n",
      "Epoch 12: val_loss did not improve from 1.64592\n",
      "83/83 [==============================] - 35s 420ms/step - loss: 1.6669 - categorical_accuracy: 0.2958 - val_loss: 1.7033 - val_categorical_accuracy: 0.2125 - lr: 0.0010\n",
      "Epoch 13/30\n",
      "83/83 [==============================] - ETA: 0s - loss: 1.6307 - categorical_accuracy: 0.3628\n",
      "Epoch 13: val_loss did not improve from 1.64592\n",
      "83/83 [==============================] - 37s 450ms/step - loss: 1.6307 - categorical_accuracy: 0.3628 - val_loss: 1.7425 - val_categorical_accuracy: 0.2500 - lr: 0.0010\n",
      "Epoch 14/30\n",
      "83/83 [==============================] - ETA: 0s - loss: 1.5998 - categorical_accuracy: 0.3569\n",
      "Epoch 14: val_loss did not improve from 1.64592\n",
      "83/83 [==============================] - 36s 439ms/step - loss: 1.5998 - categorical_accuracy: 0.3569 - val_loss: 1.7248 - val_categorical_accuracy: 0.2125 - lr: 0.0010\n",
      "Epoch 15/30\n",
      "83/83 [==============================] - ETA: 0s - loss: 1.6417 - categorical_accuracy: 0.2456\n",
      "Epoch 15: val_loss did not improve from 1.64592\n",
      "83/83 [==============================] - 40s 474ms/step - loss: 1.6417 - categorical_accuracy: 0.2456 - val_loss: 1.7162 - val_categorical_accuracy: 0.1375 - lr: 0.0010\n",
      "Epoch 16/30\n",
      "83/83 [==============================] - ETA: 0s - loss: 1.6535 - categorical_accuracy: 0.2331\n",
      "Epoch 16: val_loss did not improve from 1.64592\n",
      "\n",
      "Epoch 16: ReduceLROnPlateau reducing learning rate to 1.0000000474974514e-05.\n",
      "83/83 [==============================] - 39s 467ms/step - loss: 1.6535 - categorical_accuracy: 0.2331 - val_loss: 1.6949 - val_categorical_accuracy: 0.1625 - lr: 0.0010\n",
      "Epoch 17/30\n",
      "83/83 [==============================] - ETA: 0s - loss: 1.6496 - categorical_accuracy: 0.3066\n",
      "Epoch 17: val_loss did not improve from 1.64592\n",
      "83/83 [==============================] - 38s 459ms/step - loss: 1.6496 - categorical_accuracy: 0.3066 - val_loss: 1.7054 - val_categorical_accuracy: 0.1500 - lr: 1.0000e-05\n",
      "Epoch 18/30\n",
      "83/83 [==============================] - ETA: 0s - loss: 1.6588 - categorical_accuracy: 0.2781\n",
      "Epoch 18: val_loss did not improve from 1.64592\n",
      "83/83 [==============================] - 33s 404ms/step - loss: 1.6588 - categorical_accuracy: 0.2781 - val_loss: 1.6967 - val_categorical_accuracy: 0.1750 - lr: 1.0000e-05\n",
      "Epoch 19/30\n",
      "46/83 [===============>..............] - ETA: 15s - loss: 1.6716 - categorical_accuracy: 0.2203"
     ]
    }
   ],
   "source": [
    "model_02 = Model02(nb_classes = 5)\n",
    "history_02 = train_model(model_02, name = '02')"
   ]
  },
  {
   "cell_type": "code",
   "execution_count": null,
   "id": "9140cb4e",
   "metadata": {},
   "outputs": [],
   "source": [
    "plot_history(history_02)"
   ]
  },
  {
   "cell_type": "markdown",
   "id": "8bf2b8e5",
   "metadata": {},
   "source": [
    "## 2.3 Model 3"
   ]
  },
  {
   "cell_type": "markdown",
   "id": "aad08609",
   "metadata": {},
   "source": [
    "## 2.4 Model 4"
   ]
  },
  {
   "cell_type": "markdown",
   "id": "2c122c60",
   "metadata": {},
   "source": [
    "## 2.5 Model 5"
   ]
  },
  {
   "cell_type": "markdown",
   "id": "167ec495",
   "metadata": {},
   "source": [
    "## 2.6 Model 6"
   ]
  },
  {
   "cell_type": "markdown",
   "id": "354464b6",
   "metadata": {},
   "source": [
    "## 2.7 Model 7"
   ]
  },
  {
   "cell_type": "markdown",
   "id": "640fe70d",
   "metadata": {},
   "source": [
    "## 2.8 Model 8"
   ]
  },
  {
   "cell_type": "markdown",
   "id": "1d17ed10",
   "metadata": {},
   "source": [
    "## 2.9 Model 9"
   ]
  },
  {
   "cell_type": "markdown",
   "id": "12d2da92",
   "metadata": {},
   "source": [
    "## 2.10 Model 10"
   ]
  },
  {
   "cell_type": "markdown",
   "id": "cefe987f",
   "metadata": {},
   "source": [
    "## 2.11 Model 11"
   ]
  },
  {
   "cell_type": "markdown",
   "id": "a607652c",
   "metadata": {},
   "source": [
    "## 2.12 Model 12"
   ]
  },
  {
   "cell_type": "code",
   "execution_count": null,
   "id": "2326248c",
   "metadata": {},
   "outputs": [],
   "source": []
  },
  {
   "cell_type": "code",
   "execution_count": null,
   "id": "871b2b07",
   "metadata": {},
   "outputs": [],
   "source": []
  },
  {
   "cell_type": "code",
   "execution_count": null,
   "id": "980f1500",
   "metadata": {},
   "outputs": [],
   "source": []
  },
  {
   "cell_type": "code",
   "execution_count": null,
   "id": "abc89368",
   "metadata": {},
   "outputs": [],
   "source": []
  },
  {
   "cell_type": "code",
   "execution_count": null,
   "id": "c42f23dc",
   "metadata": {},
   "outputs": [],
   "source": []
  },
  {
   "cell_type": "code",
   "execution_count": null,
   "id": "b2bfdb86",
   "metadata": {},
   "outputs": [],
   "source": []
  },
  {
   "cell_type": "code",
   "execution_count": null,
   "id": "fb4b6123",
   "metadata": {},
   "outputs": [],
   "source": []
  },
  {
   "cell_type": "code",
   "execution_count": null,
   "id": "770fcf09",
   "metadata": {},
   "outputs": [],
   "source": []
  },
  {
   "cell_type": "code",
   "execution_count": null,
   "id": "fb8287a7",
   "metadata": {},
   "outputs": [],
   "source": []
  },
  {
   "cell_type": "code",
   "execution_count": null,
   "id": "bf947dad",
   "metadata": {},
   "outputs": [],
   "source": []
  },
  {
   "cell_type": "code",
   "execution_count": null,
   "id": "bf6ec83b",
   "metadata": {},
   "outputs": [],
   "source": []
  }
 ],
 "metadata": {
  "kernelspec": {
   "display_name": "Python 3 (ipykernel)",
   "language": "python",
   "name": "python3"
  },
  "language_info": {
   "codemirror_mode": {
    "name": "ipython",
    "version": 3
   },
   "file_extension": ".py",
   "mimetype": "text/x-python",
   "name": "python",
   "nbconvert_exporter": "python",
   "pygments_lexer": "ipython3",
   "version": "3.8.13"
  }
 },
 "nbformat": 4,
 "nbformat_minor": 5
}
